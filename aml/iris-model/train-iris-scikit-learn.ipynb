{
  "cells": [
    {
      "cell_type": "markdown",
      "source": [
        "# Train a scikit-learn SVM on the Iris dataset.\n",
        "\n",
        "**Notebook Flow** - By the end of this tutorial, you should be able to:\n",
        "- Connect to your AML workspace from the Python SDK\n",
        "- Create and run a `Command` which executes a Python command\n",
        "- Use a local file as an `input` to the Command\n",
        "\n",
        "**Motivations** - This notebook explains how to setup and run a Command. The Command is a fundamental construct of Azure Machine Learning. It can be used to run a task on a specified compute (either local or on the cloud). The Command accepts `environment` and `compute` to setup required infrastructure. You can define a `command` to run on this infrastructure with `inputs`."
      ],
      "metadata": {}
    },
    {
      "cell_type": "markdown",
      "source": [
        "# 1. Connect to Azure Machine Learning Workspace\n",
        "\n",
        "The [workspace](https://docs.microsoft.com/en-us/azure/machine-learning/concept-workspace) is the top-level resource for Azure Machine Learning, providing a centralized place to work with all the artifacts you create when you use Azure Machine Learning. In this section we will connect to the workspace in which the job will be run.\n",
        "\n",
        "## 1.1. Import the required libraries"
      ],
      "metadata": {}
    },
    {
      "cell_type": "code",
      "source": [
        "# import required libraries\n",
        "from azure.ai.ml import MLClient\n",
        "from azure.ai.ml import command, Input\n",
        "from azure.identity import DefaultAzureCredential"
      ],
      "outputs": [],
      "execution_count": 1,
      "metadata": {
        "gather": {
          "logged": 1666879633813
        }
      }
    },
    {
      "cell_type": "markdown",
      "source": [
        "## 1.2. Configure workspace details and get a handle to the workspace\n",
        "\n",
        "To connect to a workspace, we need identifier parameters - a subscription, resource group and workspace name. We will use these details in the `MLClient` from `azure.ai.ml` to get a handle to the required Azure Machine Learning workspace. We use the default [default azure authentication](https://docs.microsoft.com/en-us/python/api/azure-identity/azure.identity.defaultazurecredential?view=azure-python) for this tutorial. Check the [configuration notebook](../../../configuration.ipynb) for more details on how to configure credentials and connect to a workspace."
      ],
      "metadata": {}
    },
    {
      "cell_type": "code",
      "source": [
        "# Enter details of your AML workspace\n",
        "subscription_id = '6baab092-6683-4cc2-b4dd-7df2bb56af59'\n",
        "resource_group = 'rg-treshenv-ws-a127'\n",
        "workspace_name = 'ml-treshenv-ws-a127-svc-513c'"
      ],
      "outputs": [],
      "execution_count": 2,
      "metadata": {
        "collapsed": false,
        "gather": {
          "logged": 1666879635958
        },
        "jupyter": {
          "outputs_hidden": false,
          "source_hidden": false
        },
        "nteract": {
          "transient": {
            "deleting": false
          }
        }
      }
    },
    {
      "cell_type": "code",
      "source": [
        "# get a handle to the workspace\n",
        "ml_client = MLClient(\n",
        "    DefaultAzureCredential(), subscription_id, resource_group, workspace_name\n",
        ")"
      ],
      "outputs": [],
      "execution_count": 3,
      "metadata": {
        "collapsed": false,
        "gather": {
          "logged": 1666879636696
        },
        "jupyter": {
          "outputs_hidden": false,
          "source_hidden": false
        },
        "nteract": {
          "transient": {
            "deleting": false
          }
        }
      }
    },
    {
      "cell_type": "markdown",
      "source": [
        "## Connect to Compute for training"
      ],
      "metadata": {
        "nteract": {
          "transient": {
            "deleting": false
          }
        }
      }
    },
    {
      "cell_type": "code",
      "source": [
        "from azure.ai.ml.entities import AmlCompute\r\n",
        "\r\n",
        "gpu_cluster = ml_client.compute.get(\"gpu-shared\")\r\n",
        "print(\r\n",
        "         f\" We will use cluster named {gpu_cluster.name} details: {gpu_cluster}\"\r\n",
        "    )"
      ],
      "outputs": [
        {
          "output_type": "stream",
          "name": "stdout",
          "text": " We will use cluster named gpu-shared details: AmlCompute({'type': 'amlcompute', 'created_on': None, 'provisioning_state': 'Succeeded', 'provisioning_errors': None, 'name': 'gpu-shared', 'description': None, 'tags': {}, 'properties': {}, 'id': '/subscriptions/6baab092-6683-4cc2-b4dd-7df2bb56af59/resourceGroups/rg-treshenv-ws-a127/providers/Microsoft.MachineLearningServices/workspaces/ml-treshenv-ws-a127-svc-513c/computes/gpu-shared', 'base_path': './', 'creation_context': None, 'serialize': <msrest.serialization.Serializer object at 0x7f15bc56a680>, 'resource_id': None, 'location': 'canadacentral', 'size': 'STANDARD_NC6S_V3', 'min_instances': 1, 'max_instances': 1, 'idle_time_before_scale_down': 120.0, 'identity': <azure.ai.ml.entities._compute._identity.IdentityConfiguration object at 0x7f15bf6d7760>, 'ssh_public_access_enabled': True, 'ssh_settings': None, 'network_settings': None, 'tier': 'dedicated'})\n"
        }
      ],
      "execution_count": 4,
      "metadata": {
        "jupyter": {
          "source_hidden": false,
          "outputs_hidden": false
        },
        "nteract": {
          "transient": {
            "deleting": false
          }
        },
        "gather": {
          "logged": 1666879639477
        }
      }
    },
    {
      "cell_type": "markdown",
      "source": [
        "# 2. Configure and run the Command\n",
        "In this section we will configure and run a standalone job using the `command` class. The `command` class can be used to run standalone jobs and can also be used as a function inside pipelines.\n",
        "\n",
        "## 2.1 Configure the Command\n",
        "The `command` allows user to configure the following key aspects.\n",
        "- `code` - This is the path where the code to run the command is located\n",
        "- `command` - This is the command that needs to be run\n",
        "- `inputs` - This is the dictionary of inputs using name value pairs to the command. The key is a name for the input within the context of the job and the value is the input value. Inputs can be referenced in the `command` using the `${{inputs.<input_name>}}` expression. To use files or folders as inputs, we can use the `Input` class. The `Input` class supports three parameters:\n",
        "    - `type` - The type of input. This can be a `uri_file` or `uri_folder`. The default is `uri_folder`.         \n",
        "    - `path` - The path to the file or folder. These can be local or remote files or folders. For remote files - http/https, wasb are supported. \n",
        "        - Azure ML `data`/`dataset` or `datastore` are of type `uri_folder`. To use `data`/`dataset` as input, you can use registered dataset in the workspace using the format '<data_name>:<version>'. For e.g Input(type='uri_folder', path='my_dataset:1')\n",
        "    - `mode` - \tMode of how the data should be delivered to the compute target. Allowed values are `ro_mount`, `rw_mount` and `download`. Default is `ro_mount`\n",
        "- `environment` - This is the environment needed for the command to run. Curated or custom environments from the workspace can be used. Or a custom environment can be created and used as well. Check out the [environment](../../../../assets/environment/environment.ipynb) notebook for more examples.\n",
        "- `compute` - The compute on which the command will run. In this example we are using a compute called `cpu-cluster` present in the workspace. You can replace it any other compute in the workspace. You can run it on the local machine by using `local` for the compute. This will run the command on the local machine and all the run details and output of the job will be uploaded to the Azure ML workspace.\n",
        "- `distribution` - Distribution configuration for distributed training scenarios. Azure Machine Learning supports PyTorch, TensorFlow, and MPI-based distributed training. The allowed values are `PyTorch`, `TensorFlow` or `Mpi`.\n",
        "- `display_name` - The display name of the Job\n",
        "- `description` - The description of the experiment"
      ],
      "metadata": {}
    },
    {
      "cell_type": "code",
      "source": [
        "# create the command\n",
        "job = command(\n",
        "    code=\"./src\",  # local path where the code is stored\n",
        "    command=\"python main.py --iris-csv ${{inputs.iris}} --C ${{inputs.C}} --kernel ${{inputs.kernel}} --coef0 ${{inputs.coef0}}\",\n",
        "    inputs={\n",
        "        #\"iris\": Input(\n",
        "        #    type=\"uri_file\",\n",
        "        #    path=\"https://azuremlexamples.blob.core.windows.net/datasets/iris.csv\",\n",
        "        #),\n",
        "\n",
        "        # Use Registered Dataset\n",
        "        \"iris\": Input(\n",
        "            type=\"uri_file\",\n",
        "            path=\"iris-data:1\",\n",
        "        ),\n",
        "        \"C\": 0.8,\n",
        "        \"kernel\": \"rbf\",\n",
        "        \"coef0\": 0.1,\n",
        "    },\n",
        "    environment=\"docker-sklearn@latest\",           #\"AzureML-sklearn-0.24-ubuntu18.04-py37-cpu@latest\",\n",
        "    compute=\"gpu-shared\",\n",
        "    display_name=\"sklearn-iris-example\",\n",
        "    experiment_name=\"iris_model_mlflow_prediction\",\n",
        "    # description\n",
        ")"
      ],
      "outputs": [],
      "execution_count": 5,
      "metadata": {
        "collapsed": false,
        "gather": {
          "logged": 1666879642985
        },
        "jupyter": {
          "outputs_hidden": false,
          "source_hidden": false
        },
        "nteract": {
          "transient": {
            "deleting": false
          }
        }
      }
    },
    {
      "cell_type": "markdown",
      "source": [
        "## 2.2 Run the Command\n",
        "Using the `MLClient` created earlier, we will now run this Command as a job in the workspace."
      ],
      "metadata": {}
    },
    {
      "cell_type": "code",
      "source": [
        "# submit the command\n",
        "returned_job = ml_client.create_or_update(job)"
      ],
      "outputs": [],
      "execution_count": 6,
      "metadata": {
        "collapsed": false,
        "gather": {
          "logged": 1666879650967
        },
        "jupyter": {
          "outputs_hidden": false,
          "source_hidden": false
        },
        "nteract": {
          "transient": {
            "deleting": false
          }
        }
      }
    },
    {
      "cell_type": "code",
      "source": [
        "# monitor the job\r\n",
        "\r\n",
        "# stream the output and wait until the job is finished\r\n",
        "ml_client.jobs.stream(returned_job.name)\r\n",
        "\r\n",
        "# refresh the latest status of the job after streaming\r\n",
        "returned_job = ml_client.jobs.get(name=returned_job.name)"
      ],
      "outputs": [
        {
          "output_type": "stream",
          "name": "stdout",
          "text": "RunId: happy_oregano_9l4yq8nx5v\nWeb View: https://ml.azure.com/runs/happy_oregano_9l4yq8nx5v?wsid=/subscriptions/6baab092-6683-4cc2-b4dd-7df2bb56af59/resourcegroups/rg-treshenv-ws-a127/workspaces/ml-treshenv-ws-a127-svc-513c\n\nStreaming user_logs/std_log.txt\n===============================\n\n2022/10/27 14:08:31 WARNING mlflow.utils.autologging_utils: MLflow autologging encountered a warning: \"/opt/miniconda/envs/amlenv/lib/python3.7/site-packages/_distutils_hack/__init__.py:33: UserWarning: Setuptools is replacing distutils.\"\nRegistered model 'iris_svc_model' already exists. Creating a new version of this model...\n2022/10/27 14:08:36 INFO mlflow.tracking._model_registry.client: Waiting up to 300 seconds for model version to finish creation.                     Model name: iris_svc_model, version 3\nCreated version '3' of model 'iris_svc_model'.\nRegistering the model via MLFlow\n\nExecution Summary\n=================\nRunId: happy_oregano_9l4yq8nx5v\nWeb View: https://ml.azure.com/runs/happy_oregano_9l4yq8nx5v?wsid=/subscriptions/6baab092-6683-4cc2-b4dd-7df2bb56af59/resourcegroups/rg-treshenv-ws-a127/workspaces/ml-treshenv-ws-a127-svc-513c\n\n"
        }
      ],
      "execution_count": 7,
      "metadata": {
        "jupyter": {
          "source_hidden": false,
          "outputs_hidden": false
        },
        "nteract": {
          "transient": {
            "deleting": false
          }
        },
        "gather": {
          "logged": 1666879727703
        }
      }
    },
    {
      "cell_type": "markdown",
      "source": [
        "# Next Steps\n",
        "You can see further examples of running a job [here](../../../single-step/)"
      ],
      "metadata": {}
    },
    {
      "cell_type": "markdown",
      "source": [],
      "metadata": {}
    }
  ],
  "metadata": {
    "description": {
      "description": "Run Command to train a scikit-learn SVM on the Iris dataset"
    },
    "kernel_info": {
      "name": "python310-sdkv2"
    },
    "kernelspec": {
      "name": "python310-sdkv2",
      "language": "python",
      "display_name": "Python 3.10 - SDK V2"
    },
    "language_info": {
      "name": "python",
      "version": "3.10.4",
      "mimetype": "text/x-python",
      "codemirror_mode": {
        "name": "ipython",
        "version": 3
      },
      "pygments_lexer": "ipython3",
      "nbconvert_exporter": "python",
      "file_extension": ".py"
    },
    "microsoft": {
      "host": {
        "AzureML": {
          "notebookHasBeenCompleted": true
        }
      }
    },
    "nteract": {
      "version": "nteract-front-end@1.0.0"
    }
  },
  "nbformat": 4,
  "nbformat_minor": 4
}