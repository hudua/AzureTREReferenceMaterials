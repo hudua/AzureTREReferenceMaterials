{
  "cells": [
    {
      "cell_type": "markdown",
      "source": [
        "# Deploy a scikit-learn model as an online endpoint\n",
        "\n",
        "Now deploy your machine learning model as a web service in the Azure cloud, an online endpoint.\n",
        "\n",
        "To deploy a machine learning service, you usually need:\n",
        "\n",
        "- The model assets (file, metadata) that you want to deploy. You've already registered these assets in your training job.\n",
        "- Some code to run as a service. The code executes the model on a given input request. This entry script receives data submitted to a deployed web service and passes it to the model, then returns the model's response to the client. The script is specific to your model. The entry script must understand the data that the model expects and returns. With an MLFlow model, as in this tutorial, this script is automatically created for you. Samples of scoring scripts can be found here.\n",
        "\n"
      ],
      "metadata": {
        "nteract": {
          "transient": {
            "deleting": false
          }
        }
      }
    },
    {
      "cell_type": "markdown",
      "source": [
        "# 1. Connect to Azure Machine Learning Workspace\n",
        "\n",
        "The [workspace](https://docs.microsoft.com/en-us/azure/machine-learning/concept-workspace) is the top-level resource for Azure Machine Learning, providing a centralized place to work with all the artifacts you create when you use Azure Machine Learning. In this section we will connect to the workspace in which the job will be run.\n",
        "\n",
        "## 1.1. Import the required libraries"
      ],
      "metadata": {}
    },
    {
      "cell_type": "code",
      "source": [
        "# import required libraries\n",
        "from azure.ai.ml import MLClient\n",
        "from azure.ai.ml import command, Input\n",
        "from azure.identity import DefaultAzureCredential"
      ],
      "outputs": [],
      "execution_count": 8,
      "metadata": {
        "gather": {
          "logged": 1666852637345
        }
      }
    },
    {
      "cell_type": "markdown",
      "source": [
        "## 1.2. Configure workspace details and get a handle to the workspace\n",
        "\n",
        "To connect to a workspace, we need identifier parameters - a subscription, resource group and workspace name. We will use these details in the `MLClient` from `azure.ai.ml` to get a handle to the required Azure Machine Learning workspace. We use the default [default azure authentication](https://docs.microsoft.com/en-us/python/api/azure-identity/azure.identity.defaultazurecredential?view=azure-python) for this tutorial. Check the [configuration notebook](../../../configuration.ipynb) for more details on how to configure credentials and connect to a workspace."
      ],
      "metadata": {}
    },
    {
      "cell_type": "code",
      "source": [
        "# Enter details of your AML workspace\n",
        "subscription_id = '6baab092-6683-4cc2-b4dd-7df2bb56af59'\n",
        "resource_group = 'rg-treshenv-ws-a127'\n",
        "workspace_name = 'ml-treshenv-ws-a127-svc-513c'"
      ],
      "outputs": [],
      "execution_count": 9,
      "metadata": {
        "collapsed": false,
        "gather": {
          "logged": 1666852637914
        },
        "jupyter": {
          "outputs_hidden": false,
          "source_hidden": false
        },
        "nteract": {
          "transient": {
            "deleting": false
          }
        }
      }
    },
    {
      "cell_type": "code",
      "source": [
        "# get a handle to the workspace\n",
        "ml_client = MLClient(\n",
        "    DefaultAzureCredential(), subscription_id, resource_group, workspace_name\n",
        ")"
      ],
      "outputs": [],
      "execution_count": 10,
      "metadata": {
        "collapsed": false,
        "gather": {
          "logged": 1666852638026
        },
        "jupyter": {
          "outputs_hidden": false,
          "source_hidden": false
        },
        "nteract": {
          "transient": {
            "deleting": false
          }
        }
      }
    },
    {
      "cell_type": "markdown",
      "source": [
        "# Create a new online endpoint\r\n",
        "\r\n",
        "Online endpoints are endpoints that are used for online (real-time) inferencing. Online endpoints contain deployments that are ready to receive data from clients and can send responses back in real time.\r\n",
        "\r\n",
        "To create an online endpoint we will use ManagedOnlineEndpoint. This class allows user to configure the following key aspects:\r\n",
        "\r\n",
        "- `name` - Name of the endpoint. Needs to be unique at the Azure region level\r\n",
        "- `auth_mode` - The authentication method for the endpoint. Key-based authentication and Azure ML token-based authentication are = supported. Key-based authentication doesn't expire but Azure ML token-based authentication does. Possible values are key or aml_token.\r\n",
        "- `identity`- The managed identity configuration for accessing Azure resources for endpoint provisioning and inference.\r\n",
        "    - `type`- The type of managed identity. Azure Machine Learning supports system_assigned or user_assigned identity.\r\n",
        "    - `user_assigned_identities` - List (array) of fully qualified resource IDs of the user-assigned identities. This property is required is identity.type is user_assigned.\r\n",
        "- `description`- Description of the endpoint."
      ],
      "metadata": {
        "nteract": {
          "transient": {
            "deleting": false
          }
        }
      }
    },
    {
      "cell_type": "code",
      "source": [
        "import uuid\r\n",
        "\r\n",
        "# Creating a unique name for the endpoint\r\n",
        "online_endpoint_name = \"iris-svc\" + str(uuid.uuid4())[:8]"
      ],
      "outputs": [],
      "execution_count": 11,
      "metadata": {
        "jupyter": {
          "source_hidden": false,
          "outputs_hidden": false
        },
        "nteract": {
          "transient": {
            "deleting": false
          }
        },
        "gather": {
          "logged": 1666852638115
        }
      }
    },
    {
      "cell_type": "code",
      "source": [
        "from azure.ai.ml.entities import (\r\n",
        "    ManagedOnlineEndpoint,\r\n",
        "    ManagedOnlineDeployment,\r\n",
        "    Model,\r\n",
        "    Environment,\r\n",
        ")\r\n",
        "\r\n",
        "# create an online endpoint\r\n",
        "endpoint = ManagedOnlineEndpoint(\r\n",
        "    name=online_endpoint_name,\r\n",
        "    description=\"this is an online endpoint\",\r\n",
        "    auth_mode=\"key\",\r\n",
        "    tags={\r\n",
        "        \"training_dataset\": \"iris-data\",\r\n",
        "        \"model_type\": \"sklearn.SVC\",\r\n",
        "    },\r\n",
        ")\r\n",
        "\r\n",
        "endpoint = ml_client.begin_create_or_update(endpoint)\r\n",
        "\r\n",
        "print(f\"Endpoint {endpoint.name} provisioning state: {endpoint.provisioning_state}\")"
      ],
      "outputs": [
        {
          "output_type": "stream",
          "name": "stdout",
          "text": "Endpoint iris-svc625ae8fd provisioning state: Succeeded\n"
        }
      ],
      "execution_count": 12,
      "metadata": {
        "jupyter": {
          "source_hidden": false,
          "outputs_hidden": false
        },
        "nteract": {
          "transient": {
            "deleting": false
          }
        },
        "gather": {
          "logged": 1666852733145
        }
      }
    },
    {
      "cell_type": "code",
      "source": [
        "# Once you've created an endpoint, you can retrieve it as below:\r\n",
        "\r\n",
        "endpoint = ml_client.online_endpoints.get(name=online_endpoint_name)\r\n",
        "\r\n",
        "print(\r\n",
        "    f'Endpoint \"{endpoint.name}\" with provisioning state \"{endpoint.provisioning_state}\" is retrieved'\r\n",
        ")"
      ],
      "outputs": [
        {
          "output_type": "stream",
          "name": "stdout",
          "text": "Endpoint \"iris-svc625ae8fd\" with provisioning state \"Succeeded\" is retrieved\n"
        }
      ],
      "execution_count": 13,
      "metadata": {
        "jupyter": {
          "source_hidden": false,
          "outputs_hidden": false
        },
        "nteract": {
          "transient": {
            "deleting": false
          }
        },
        "gather": {
          "logged": 1666852733844
        }
      }
    },
    {
      "cell_type": "markdown",
      "source": [
        "# Deploy the model to the endpoint\r\n",
        "Once the endpoint is created, deploy the model with the entry script. Each endpoint can have multiple deployments. Direct traffic to these deployments can be specified using rules. Here you'll create a single deployment that handles 100% of the incoming traffic. We have chosen a color name for the deployment, for example, blue, green, red deployments, which is arbitrary.\r\n",
        "\r\n",
        "You can check the Models page on Azure ML studio, to identify the latest version of your registered model. Alternatively, the code below will retrieve the latest version number for you to use."
      ],
      "metadata": {
        "nteract": {
          "transient": {
            "deleting": false
          }
        }
      }
    },
    {
      "cell_type": "code",
      "source": [
        "# Let's pick the latest version of the model\r\n",
        "latest_model_version = max(\r\n",
        "    [int(m.version) for m in ml_client.models.list(name=\"iris_svc_model\")]\r\n",
        ")\r\n",
        "print (f'Current model version \"{latest_model_version}\"')"
      ],
      "outputs": [
        {
          "output_type": "stream",
          "name": "stdout",
          "text": "Current model version \"2\"\n"
        }
      ],
      "execution_count": 14,
      "metadata": {
        "jupyter": {
          "source_hidden": false,
          "outputs_hidden": false
        },
        "nteract": {
          "transient": {
            "deleting": false
          }
        },
        "gather": {
          "logged": 1666853213844
        }
      }
    },
    {
      "cell_type": "markdown",
      "source": [
        "# Create a blue deployment\r\n",
        "A deployment is a set of resources required for hosting the model that does the actual inferencing. We will create a deployment for our endpoint using the ManagedOnlineDeployment class. This class allows user to configure the following key aspects.\r\n",
        "\r\n",
        "- `name` - Name of the deployment.\r\n",
        "- `endpoint_name` - Name of the endpoint to create the deployment under.\r\n",
        "- `model` - The model to use for the deployment. This value can be either a reference to an existing versioned model in the workspace or an inline model specification.\r\n",
        "- `instance_type` - The VM size to use for the deployment. For the list of supported sizes, see Managed online endpoints SKU list.\r\n",
        "- `instance_count` - The number of instances to use for the deploymen"
      ],
      "metadata": {
        "nteract": {
          "transient": {
            "deleting": false
          }
        }
      }
    },
    {
      "cell_type": "code",
      "source": [
        "# Deploy the latest version of the model.\r\n",
        "\r\n",
        "\r\n",
        "# picking the model to deploy. Here we use the latest version of our registered model\r\n",
        "model = ml_client.models.get(name=\"iris_svc_model\", version=latest_model_version)\r\n",
        "\r\n",
        "\r\n",
        "# create an online deployment.\r\n",
        "blue_deployment = ManagedOnlineDeployment(\r\n",
        "    name=\"blue\",\r\n",
        "    endpoint_name=online_endpoint_name,\r\n",
        "    model=model,\r\n",
        "    instance_type=\"Standard_DS3_v2\",\r\n",
        "    instance_count=1,\r\n",
        ")\r\n",
        "\r\n",
        "blue_deployment = ml_client.begin_create_or_update(blue_deployment)"
      ],
      "outputs": [
        {
          "output_type": "stream",
          "name": "stderr",
          "text": "Check: endpoint iris-svc625ae8fd exists\nCreating/updating online deployment blue Done (6m 50s)\n"
        },
        {
          "output_type": "stream",
          "name": "stdout",
          "text": "..........................................................................."
        }
      ],
      "execution_count": 15,
      "metadata": {
        "jupyter": {
          "source_hidden": false,
          "outputs_hidden": false
        },
        "nteract": {
          "transient": {
            "deleting": false
          }
        },
        "gather": {
          "logged": 1666853637913
        }
      }
    },
    {
      "cell_type": "code",
      "source": [
        "# blue deployment takes 100 traffic\r\n",
        "endpoint.traffic = {\"blue\": 100}\r\n",
        "ml_client.begin_create_or_update(endpoint)\r\n",
        "print(f'\"{endpoint}')"
      ],
      "outputs": [
        {
          "output_type": "execute_result",
          "execution_count": 18,
          "data": {
            "text/plain": "ManagedOnlineEndpoint({'public_network_access': 'Enabled', 'provisioning_state': 'Succeeded', 'scoring_uri': 'https://iris-svc625ae8fd.canadacentral.inference.ml.azure.com/score', 'swagger_uri': 'https://iris-svc625ae8fd.canadacentral.inference.ml.azure.com/swagger.json', 'name': 'iris-svc625ae8fd', 'description': 'this is an online endpoint', 'tags': {'training_dataset': 'iris-data', 'model_type': 'sklearn.SVC'}, 'properties': {'azureml.onlineendpointid': '/subscriptions/6baab092-6683-4cc2-b4dd-7df2bb56af59/resourcegroups/rg-treshenv-ws-a127/providers/microsoft.machinelearningservices/workspaces/ml-treshenv-ws-a127-svc-513c/onlineendpoints/iris-svc625ae8fd', 'AzureAsyncOperationUri': 'https://management.azure.com/subscriptions/6baab092-6683-4cc2-b4dd-7df2bb56af59/providers/Microsoft.MachineLearningServices/locations/canadacentral/mfeOperationsStatus/oe:e9aec20e-4d27-4063-89ba-a6f45406c563:45e5519f-7c02-4c41-841d-9501d3fbf923?api-version=2022-02-01-preview'}, 'id': '/subscriptions/6baab092-6683-4cc2-b4dd-7df2bb56af59/resourceGroups/rg-treshenv-ws-a127/providers/Microsoft.MachineLearningServices/workspaces/ml-treshenv-ws-a127-svc-513c/onlineEndpoints/iris-svc625ae8fd', 'base_path': './', 'creation_context': None, 'serialize': <msrest.serialization.Serializer object at 0x7fbb9b037970>, 'auth_mode': 'key', 'location': 'canadacentral', 'identity': <azure.ai.ml._restclient.v2022_02_01_preview.models._models_py3.ManagedServiceIdentity object at 0x7fbb9b0376a0>, 'traffic': {'blue': 100}, 'mirror_traffic': {}, 'kind': 'Managed'})"
          },
          "metadata": {}
        }
      ],
      "execution_count": 18,
      "metadata": {
        "jupyter": {
          "source_hidden": false,
          "outputs_hidden": false
        },
        "nteract": {
          "transient": {
            "deleting": false
          }
        },
        "gather": {
          "logged": 1666854660940
        }
      }
    },
    {
      "cell_type": "markdown",
      "source": [
        "# Test the deployment\r\n",
        "Using the MLClient created earlier, we will get a handle to the endpoint. The endpoint can be invoked using the invoke command with the following parameters:\r\n",
        "\r\n",
        "- `endpoint_name` - Name of the endpoint\r\n",
        "- `request_file` - File with request data\r\n",
        "- `deployment_name` - Name of the specific deployment to test in an endpoint\r\n",
        "We will send a sample request using a sample-request.json file."
      ],
      "metadata": {
        "nteract": {
          "transient": {
            "deleting": false
          }
        }
      }
    },
    {
      "cell_type": "code",
      "source": [
        "%%writefile sample-request.json\r\n",
        "{\r\n",
        "  \"input_data\": {\r\n",
        "    \"columns\": [0,1,2,3],\r\n",
        "    \"index\": [0, 1,2],\r\n",
        "    \"data\": [\r\n",
        "            [5,3.3,1.4,0.2],\r\n",
        "            [6.1,2.9,4.7,1.4],\r\n",
        "            [6,3,4.8,1.8]\r\n",
        "        ]\r\n",
        "  }\r\n",
        "}"
      ],
      "outputs": [
        {
          "output_type": "stream",
          "name": "stdout",
          "text": "Overwriting sample-request.json\n"
        }
      ],
      "execution_count": 21,
      "metadata": {
        "jupyter": {
          "source_hidden": false,
          "outputs_hidden": false
        },
        "nteract": {
          "transient": {
            "deleting": false
          }
        }
      }
    },
    {
      "cell_type": "code",
      "source": [
        "# test the blue deployment with some sample data\r\n",
        "ml_client.online_endpoints.invoke(\r\n",
        "    endpoint_name=online_endpoint_name,\r\n",
        "    request_file=\"./sample-request.json\",\r\n",
        "    deployment_name=\"blue\",\r\n",
        ")"
      ],
      "outputs": [
        {
          "output_type": "execute_result",
          "execution_count": 22,
          "data": {
            "text/plain": "'[\"Iris-setosa\", \"Iris-versicolor\", \"Iris-virginica\"]'"
          },
          "metadata": {}
        }
      ],
      "execution_count": 22,
      "metadata": {
        "jupyter": {
          "source_hidden": false,
          "outputs_hidden": false
        },
        "nteract": {
          "transient": {
            "deleting": false
          }
        },
        "gather": {
          "logged": 1666855036891
        }
      }
    },
    {
      "cell_type": "markdown",
      "source": [
        "# Get endpoint details"
      ],
      "metadata": {
        "nteract": {
          "transient": {
            "deleting": false
          }
        }
      }
    },
    {
      "cell_type": "code",
      "source": [
        "# Get the details for online endpoint\r\n",
        "endpoint = ml_client.online_endpoints.get(name=online_endpoint_name)\r\n",
        "\r\n",
        "# existing traffic details\r\n",
        "print(endpoint.traffic)\r\n",
        "\r\n",
        "# Get the scoring URI\r\n",
        "print(endpoint.scoring_uri)"
      ],
      "outputs": [
        {
          "output_type": "stream",
          "name": "stdout",
          "text": "{'blue': 100}\nhttps://iris-svc625ae8fd.canadacentral.inference.ml.azure.com/score\n"
        }
      ],
      "execution_count": 23,
      "metadata": {
        "jupyter": {
          "source_hidden": false,
          "outputs_hidden": false
        },
        "nteract": {
          "transient": {
            "deleting": false
          }
        },
        "gather": {
          "logged": 1666855182866
        }
      }
    },
    {
      "cell_type": "markdown",
      "source": [
        "# Next Steps\n",
        "You can see further examples of running a job [here](../../../single-step/)"
      ],
      "metadata": {}
    },
    {
      "cell_type": "markdown",
      "source": [],
      "metadata": {}
    }
  ],
  "metadata": {
    "description": {
      "description": "Run Command to train a scikit-learn SVM on the Iris dataset"
    },
    "kernel_info": {
      "name": "python310-sdkv2"
    },
    "kernelspec": {
      "name": "python310-sdkv2",
      "language": "python",
      "display_name": "Python 3.10 - SDK V2"
    },
    "language_info": {
      "name": "python",
      "version": "3.10.4",
      "mimetype": "text/x-python",
      "codemirror_mode": {
        "name": "ipython",
        "version": 3
      },
      "pygments_lexer": "ipython3",
      "nbconvert_exporter": "python",
      "file_extension": ".py"
    },
    "microsoft": {
      "host": {
        "AzureML": {
          "notebookHasBeenCompleted": true
        }
      }
    },
    "nteract": {
      "version": "nteract-front-end@1.0.0"
    }
  },
  "nbformat": 4,
  "nbformat_minor": 4
}